{
 "cells": [
  {
   "cell_type": "raw",
   "id": "1e00c4da-1ec9-4402-a28b-6ad4b241b3a8",
   "metadata": {},
   "source": [
    "---\n",
    "title: \" \"\n",
    "format: \n",
    "  html:\n",
    "    code-fold: true\n",
    "jupyter: python3\n",
    "---"
   ]
  },
  {
   "cell_type": "markdown",
   "id": "1d7491ed-0aac-477b-8768-6f36498a6c7d",
   "metadata": {},
   "source": [
    "# <span style=\"display:block;text-align:center;color:blue;\">吴尚岐</span>\n",
    "\n",
    "## 个人信息\n",
    "\n",
    "- 出生年月：2001年8月\n",
    "\n",
    "- 学号：2024303110137\n",
    "- 邮箱：`wushangqi@webmail.hzau.edu.cn`\n",
    "\n",
    "---\n",
    "\n",
    "## 教育背景\n",
    "\n",
    "- 2019.9-2023.6 华中农业大学 地理信息科学 理学学士 (13/70)\n",
    "\n",
    "- 2024.9-至今 华中农业大学 资源环境信息工程 在读\n",
    "\n",
    "---\n",
    "\n",
    "## 工作经历\n",
    "\n",
    "- 2023.8-2024.7 摩峰中心小学 支教教师 [研究生支教团]\n",
    "\n",
    "---\n",
    "\n",
    "## 参与项目\n",
    "\n",
    "- 湖北省大学生创新创业计划训练项目，2021-2023，已结题，参与\n",
    "\n",
    "---\n",
    "\n",
    "## 所获荣誉\n",
    "\n",
    "- 2024年中国研究生数学建模竞赛国家一等奖\n",
    "\n",
    "- 2023年华中农业大学优秀学生干部标兵（本科生10人）\n",
    "- 2023年华中农业大学优秀毕业生\n",
    "- 2021年华中杯数学建模挑战赛三等奖\n",
    "\n",
    "---\n",
    "\n",
    "## 技能证书\n",
    "\n",
    "- 技能：ArcGIS, ENVI, Office, Matlab, C, 熟练掌握Tensorflow框架的Python语言编程\n",
    "\n",
    "- 证书：教师资格证[高中地理]、计算机二级[Office]\n",
    "\n",
    "---"
   ]
  }
 ],
 "metadata": {
  "kernelspec": {
   "display_name": "Python 3 (ipykernel)",
   "language": "python",
   "name": "python3"
  },
  "language_info": {
   "codemirror_mode": {
    "name": "ipython",
    "version": 3
   },
   "file_extension": ".py",
   "mimetype": "text/x-python",
   "name": "python",
   "nbconvert_exporter": "python",
   "pygments_lexer": "ipython3",
   "version": "3.8.17"
  }
 },
 "nbformat": 4,
 "nbformat_minor": 5
}
